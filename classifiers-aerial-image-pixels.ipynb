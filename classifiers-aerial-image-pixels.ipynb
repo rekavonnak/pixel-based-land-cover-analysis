{
 "cells": [
  {
   "cell_type": "markdown",
   "execution_count": null,
   "metadata": {
    "papermill": {
     "duration": 0.013832,
     "end_time": "2020-08-20T20:01:17.704337",
     "exception": false,
     "start_time": "2020-08-20T20:01:17.690505",
     "status": "completed"
    },
    "tags": []
   },
   "source": [
    "## Random forest and other classifiers"
   ]
  },
  {
   "cell_type": "code",
   "execution_count": 1,
   "metadata": {
    "execution": {
     "iopub.execute_input": "2020-08-20T20:01:17.738476Z",
     "iopub.status.busy": "2020-08-20T20:01:17.737647Z",
     "iopub.status.idle": "2020-08-20T20:01:20.771341Z",
     "shell.execute_reply": "2020-08-20T20:01:20.770391Z"
    },
    "papermill": {
     "duration": 3.053545,
     "end_time": "2020-08-20T20:01:20.771502",
     "exception": false,
     "start_time": "2020-08-20T20:01:17.717957",
     "status": "completed"
    },
    "tags": []
   },
   "outputs": [],
   "source": [
    "import pandas as pd\n",
    "import numpy as np\n",
    "from sklearn.preprocessing import MinMaxScaler, MultiLabelBinarizer, LabelBinarizer\n",
    "from sklearn.model_selection import train_test_split, cross_validate, StratifiedKFold\n",
    "from sklearn.ensemble import RandomForestClassifier\n",
    "from sklearn import metrics\n",
    "from sklearn.metrics import accuracy_score, confusion_matrix, recall_score\n",
    "from xgboost import XGBClassifier\n",
    "import xgboost\n",
    "import cv2\n",
    "from skimage.io import imread\n",
    "import matplotlib.pyplot as plt"
   ]
  },
  {
   "cell_type": "code",
   "execution_count": 2,
   "metadata": {
    "execution": {
     "iopub.execute_input": "2020-08-20T20:01:20.800859Z",
     "iopub.status.busy": "2020-08-20T20:01:20.800042Z",
     "iopub.status.idle": "2020-08-20T20:01:24.709130Z",
     "shell.execute_reply": "2020-08-20T20:01:24.708265Z"
    },
    "papermill": {
     "duration": 3.925304,
     "end_time": "2020-08-20T20:01:24.709265",
     "exception": false,
     "start_time": "2020-08-20T20:01:20.783961",
     "status": "completed"
    },
    "tags": []
   },
   "outputs": [],
   "source": [
    "df = pd.read_pickle('../input/classification-datasetpckl/classification_dataset.pckl')"
   ]
  },
  {
   "cell_type": "code",
   "execution_count": 3,
   "metadata": {
    "execution": {
     "iopub.execute_input": "2020-08-20T20:01:24.744653Z",
     "iopub.status.busy": "2020-08-20T20:01:24.743490Z",
     "iopub.status.idle": "2020-08-20T20:01:25.520723Z",
     "shell.execute_reply": "2020-08-20T20:01:25.520027Z"
    },
    "papermill": {
     "duration": 0.799761,
     "end_time": "2020-08-20T20:01:25.520870",
     "exception": false,
     "start_time": "2020-08-20T20:01:24.721109",
     "status": "completed"
    },
    "tags": []
   },
   "outputs": [],
   "source": [
    "df_pixels_reversed = df[['R', 'G', 'B']].values[:, ::-1]\n",
    "df['R'] = df_pixels_reversed[:, 0]\n",
    "df['G'] = df_pixels_reversed[:, 1]\n",
    "df['B'] = df_pixels_reversed[:, 2]"
   ]
  },
  {
   "cell_type": "code",
   "execution_count": 4,
   "metadata": {
    "execution": {
     "iopub.execute_input": "2020-08-20T20:01:27.172528Z",
     "iopub.status.busy": "2020-08-20T20:01:25.761390Z",
     "iopub.status.idle": "2020-08-20T20:01:27.178104Z",
     "shell.execute_reply": "2020-08-20T20:01:27.177325Z"
    },
    "papermill": {
     "duration": 1.646093,
     "end_time": "2020-08-20T20:01:27.178240",
     "exception": false,
     "start_time": "2020-08-20T20:01:25.532147",
     "status": "completed"
    },
    "tags": []
   },
   "outputs": [
    {
     "data": {
      "text/plain": [
       "array([b'vegetation', b'concrete', b'bare soil', b'water', b'buildings'],\n",
       "      dtype=object)"
      ]
     },
     "execution_count": 4,
     "metadata": {},
     "output_type": "execute_result"
    }
   ],
   "source": [
    "df['class'].unique()"
   ]
  },
  {
   "cell_type": "code",
   "execution_count": 5,
   "metadata": {
    "execution": {
     "iopub.execute_input": "2020-08-20T20:01:28.362113Z",
     "iopub.status.busy": "2020-08-20T20:01:27.819486Z",
     "iopub.status.idle": "2020-08-20T20:01:37.705643Z",
     "shell.execute_reply": "2020-08-20T20:01:37.704795Z"
    },
    "papermill": {
     "duration": 10.516244,
     "end_time": "2020-08-20T20:01:37.705781",
     "exception": false,
     "start_time": "2020-08-20T20:01:27.189537",
     "status": "completed"
    },
    "tags": []
   },
   "outputs": [],
   "source": [
    "df['classes'] = df['class'].replace({b'vegetation': 0, b'concrete': 1, b'bare soil': 2, b'water': 3, b'buildings': 4})"
   ]
  },
  {
   "cell_type": "code",
   "execution_count": 6,
   "metadata": {
    "execution": {
     "iopub.execute_input": "2020-08-20T20:01:37.734796Z",
     "iopub.status.busy": "2020-08-20T20:01:37.733934Z",
     "iopub.status.idle": "2020-08-20T20:01:37.798321Z",
     "shell.execute_reply": "2020-08-20T20:01:37.797518Z"
    },
    "papermill": {
     "duration": 0.081058,
     "end_time": "2020-08-20T20:01:37.798466",
     "exception": false,
     "start_time": "2020-08-20T20:01:37.717408",
     "status": "completed"
    },
    "tags": []
   },
   "outputs": [
    {
     "data": {
      "text/plain": [
       "array([0, 1, 2, 3, 4])"
      ]
     },
     "execution_count": 6,
     "metadata": {},
     "output_type": "execute_result"
    }
   ],
   "source": [
    "df['classes'].unique()"
   ]
  },
  {
   "cell_type": "code",
   "execution_count": 7,
   "metadata": {
    "execution": {
     "iopub.execute_input": "2020-08-20T20:01:38.025161Z",
     "iopub.status.busy": "2020-08-20T20:01:37.962748Z",
     "iopub.status.idle": "2020-08-20T20:01:38.388529Z",
     "shell.execute_reply": "2020-08-20T20:01:38.387796Z"
    },
    "papermill": {
     "duration": 0.578444,
     "end_time": "2020-08-20T20:01:38.388665",
     "exception": false,
     "start_time": "2020-08-20T20:01:37.810221",
     "status": "completed"
    },
    "tags": []
   },
   "outputs": [],
   "source": [
    "df = df.drop(columns=['class'])"
   ]
  },
  {
   "cell_type": "code",
   "execution_count": 8,
   "metadata": {
    "execution": {
     "iopub.execute_input": "2020-08-20T20:01:38.423589Z",
     "iopub.status.busy": "2020-08-20T20:01:38.422586Z",
     "iopub.status.idle": "2020-08-20T20:01:38.435234Z",
     "shell.execute_reply": "2020-08-20T20:01:38.434592Z"
    },
    "papermill": {
     "duration": 0.034947,
     "end_time": "2020-08-20T20:01:38.435375",
     "exception": false,
     "start_time": "2020-08-20T20:01:38.400428",
     "status": "completed"
    },
    "tags": []
   },
   "outputs": [
    {
     "data": {
      "text/html": [
       "<div>\n",
       "<style scoped>\n",
       "    .dataframe tbody tr th:only-of-type {\n",
       "        vertical-align: middle;\n",
       "    }\n",
       "\n",
       "    .dataframe tbody tr th {\n",
       "        vertical-align: top;\n",
       "    }\n",
       "\n",
       "    .dataframe thead th {\n",
       "        text-align: right;\n",
       "    }\n",
       "</style>\n",
       "<table border=\"1\" class=\"dataframe\">\n",
       "  <thead>\n",
       "    <tr style=\"text-align: right;\">\n",
       "      <th></th>\n",
       "      <th>R</th>\n",
       "      <th>G</th>\n",
       "      <th>B</th>\n",
       "      <th>classes</th>\n",
       "    </tr>\n",
       "  </thead>\n",
       "  <tbody>\n",
       "    <tr>\n",
       "      <th>0</th>\n",
       "      <td>15.0</td>\n",
       "      <td>33.0</td>\n",
       "      <td>27.0</td>\n",
       "      <td>0</td>\n",
       "    </tr>\n",
       "    <tr>\n",
       "      <th>1</th>\n",
       "      <td>21.0</td>\n",
       "      <td>36.0</td>\n",
       "      <td>35.0</td>\n",
       "      <td>0</td>\n",
       "    </tr>\n",
       "    <tr>\n",
       "      <th>2</th>\n",
       "      <td>1.0</td>\n",
       "      <td>13.0</td>\n",
       "      <td>13.0</td>\n",
       "      <td>0</td>\n",
       "    </tr>\n",
       "    <tr>\n",
       "      <th>3</th>\n",
       "      <td>0.0</td>\n",
       "      <td>0.0</td>\n",
       "      <td>0.0</td>\n",
       "      <td>0</td>\n",
       "    </tr>\n",
       "    <tr>\n",
       "      <th>4</th>\n",
       "      <td>0.0</td>\n",
       "      <td>0.0</td>\n",
       "      <td>0.0</td>\n",
       "      <td>0</td>\n",
       "    </tr>\n",
       "    <tr>\n",
       "      <th>5</th>\n",
       "      <td>0.0</td>\n",
       "      <td>0.0</td>\n",
       "      <td>3.0</td>\n",
       "      <td>0</td>\n",
       "    </tr>\n",
       "    <tr>\n",
       "      <th>6</th>\n",
       "      <td>0.0</td>\n",
       "      <td>4.0</td>\n",
       "      <td>8.0</td>\n",
       "      <td>0</td>\n",
       "    </tr>\n",
       "    <tr>\n",
       "      <th>7</th>\n",
       "      <td>0.0</td>\n",
       "      <td>3.0</td>\n",
       "      <td>3.0</td>\n",
       "      <td>0</td>\n",
       "    </tr>\n",
       "    <tr>\n",
       "      <th>8</th>\n",
       "      <td>0.0</td>\n",
       "      <td>0.0</td>\n",
       "      <td>0.0</td>\n",
       "      <td>0</td>\n",
       "    </tr>\n",
       "    <tr>\n",
       "      <th>9</th>\n",
       "      <td>0.0</td>\n",
       "      <td>1.0</td>\n",
       "      <td>1.0</td>\n",
       "      <td>0</td>\n",
       "    </tr>\n",
       "  </tbody>\n",
       "</table>\n",
       "</div>"
      ],
      "text/plain": [
       "      R     G     B  classes\n",
       "0  15.0  33.0  27.0        0\n",
       "1  21.0  36.0  35.0        0\n",
       "2   1.0  13.0  13.0        0\n",
       "3   0.0   0.0   0.0        0\n",
       "4   0.0   0.0   0.0        0\n",
       "5   0.0   0.0   3.0        0\n",
       "6   0.0   4.0   8.0        0\n",
       "7   0.0   3.0   3.0        0\n",
       "8   0.0   0.0   0.0        0\n",
       "9   0.0   1.0   1.0        0"
      ]
     },
     "execution_count": 8,
     "metadata": {},
     "output_type": "execute_result"
    }
   ],
   "source": [
    "df.head(10)"
   ]
  },
  {
   "cell_type": "code",
   "execution_count": 9,
   "metadata": {
    "execution": {
     "iopub.execute_input": "2020-08-20T20:01:38.465291Z",
     "iopub.status.busy": "2020-08-20T20:01:38.464500Z",
     "iopub.status.idle": "2020-08-20T20:01:38.979692Z",
     "shell.execute_reply": "2020-08-20T20:01:38.980289Z"
    },
    "papermill": {
     "duration": 0.533134,
     "end_time": "2020-08-20T20:01:38.980470",
     "exception": false,
     "start_time": "2020-08-20T20:01:38.447336",
     "status": "completed"
    },
    "tags": []
   },
   "outputs": [
    {
     "data": {
      "text/plain": [
       "<matplotlib.axes._subplots.AxesSubplot at 0x7fe7bc9ed750>"
      ]
     },
     "execution_count": 9,
     "metadata": {},
     "output_type": "execute_result"
    },
    {
     "data": {
      "image/png": "[encoded data removed]",
      "text/plain": [
       "<Figure size 432x288 with 1 Axes>"
      ]
     },
     "metadata": {
      "needs_background": "light"
     },
     "output_type": "display_data"
    }
   ],
   "source": [
    "df['classes'].hist()"
   ]
  },
  {
   "cell_type": "code",
   "execution_count": 10,
   "metadata": {
    "execution": {
     "iopub.execute_input": "2020-08-20T20:01:39.012393Z",
     "iopub.status.busy": "2020-08-20T20:01:39.011494Z",
     "iopub.status.idle": "2020-08-20T20:01:42.151018Z",
     "shell.execute_reply": "2020-08-20T20:01:42.150318Z"
    },
    "papermill": {
     "duration": 3.158272,
     "end_time": "2020-08-20T20:01:42.151164",
     "exception": false,
     "start_time": "2020-08-20T20:01:38.992892",
     "status": "completed"
    },
    "tags": []
   },
   "outputs": [],
   "source": [
    "df_sampled = df.groupby('classes').apply(pd.DataFrame.sample, frac=.05)"
   ]
  },
  {
   "cell_type": "code",
   "execution_count": 11,
   "metadata": {
    "execution": {
     "iopub.execute_input": "2020-08-20T20:01:42.182374Z",
     "iopub.status.busy": "2020-08-20T20:01:42.181563Z",
     "iopub.status.idle": "2020-08-20T20:01:42.196166Z",
     "shell.execute_reply": "2020-08-20T20:01:42.196802Z"
    },
    "papermill": {
     "duration": 0.033261,
     "end_time": "2020-08-20T20:01:42.196989",
     "exception": false,
     "start_time": "2020-08-20T20:01:42.163728",
     "status": "completed"
    },
    "tags": []
   },
   "outputs": [
    {
     "data": {
      "text/plain": [
       "0    251627\n",
       "2    187971\n",
       "4     79288\n",
       "1     66304\n",
       "3     36119\n",
       "Name: classes, dtype: int64"
      ]
     },
     "execution_count": 11,
     "metadata": {},
     "output_type": "execute_result"
    }
   ],
   "source": [
    "df_sampled['classes'].value_counts()"
   ]
  },
  {
   "cell_type": "code",
   "execution_count": 12,
   "metadata": {
    "execution": {
     "iopub.execute_input": "2020-08-20T20:01:42.233754Z",
     "iopub.status.busy": "2020-08-20T20:01:42.232802Z",
     "iopub.status.idle": "2020-08-20T20:01:42.236241Z",
     "shell.execute_reply": "2020-08-20T20:01:42.235610Z"
    },
    "papermill": {
     "duration": 0.026691,
     "end_time": "2020-08-20T20:01:42.236381",
     "exception": false,
     "start_time": "2020-08-20T20:01:42.209690",
     "status": "completed"
    },
    "tags": []
   },
   "outputs": [],
   "source": [
    "X = df_sampled.drop(columns=['classes'])\n",
    "#y = np.asarray(df_sampled['class'])\n",
    "y=df_sampled.classes.values"
   ]
  },
  {
   "cell_type": "code",
   "execution_count": 13,
   "metadata": {
    "execution": {
     "iopub.execute_input": "2020-08-20T20:01:42.268754Z",
     "iopub.status.busy": "2020-08-20T20:01:42.267611Z",
     "iopub.status.idle": "2020-08-20T20:01:42.272236Z",
     "shell.execute_reply": "2020-08-20T20:01:42.272780Z"
    },
    "papermill": {
     "duration": 0.023508,
     "end_time": "2020-08-20T20:01:42.272971",
     "exception": false,
     "start_time": "2020-08-20T20:01:42.249463",
     "status": "completed"
    },
    "tags": []
   },
   "outputs": [
    {
     "data": {
      "text/plain": [
       "((621309, 3), (621309,))"
      ]
     },
     "execution_count": 13,
     "metadata": {},
     "output_type": "execute_result"
    }
   ],
   "source": [
    "#labelencoder =LabelBinarizer()\n",
    "#y = labelencoder.fit_transform(y)\n",
    "\n",
    "X.shape, y.shape"
   ]
  },
  {
   "cell_type": "code",
   "execution_count": 14,
   "metadata": {
    "execution": {
     "iopub.execute_input": "2020-08-20T20:01:42.304845Z",
     "iopub.status.busy": "2020-08-20T20:01:42.304108Z",
     "iopub.status.idle": "2020-08-20T20:01:42.308033Z",
     "shell.execute_reply": "2020-08-20T20:01:42.307271Z"
    },
    "papermill": {
     "duration": 0.021887,
     "end_time": "2020-08-20T20:01:42.308164",
     "exception": false,
     "start_time": "2020-08-20T20:01:42.286277",
     "status": "completed"
    },
    "tags": []
   },
   "outputs": [],
   "source": [
    "#y=MultiLabelBinarizer().fit_transform(y) "
   ]
  },
  {
   "cell_type": "code",
   "execution_count": 15,
   "metadata": {
    "execution": {
     "iopub.execute_input": "2020-08-20T20:01:42.342445Z",
     "iopub.status.busy": "2020-08-20T20:01:42.341639Z",
     "iopub.status.idle": "2020-08-20T20:01:42.437469Z",
     "shell.execute_reply": "2020-08-20T20:01:42.436593Z"
    },
    "papermill": {
     "duration": 0.116555,
     "end_time": "2020-08-20T20:01:42.437609",
     "exception": false,
     "start_time": "2020-08-20T20:01:42.321054",
     "status": "completed"
    },
    "tags": []
   },
   "outputs": [],
   "source": [
    "scaler = MinMaxScaler() \n",
    "X = scaler.fit_transform(X)\n",
    "X_train, X_test, y_train, y_test = train_test_split(X, y)"
   ]
  },
  {
   "cell_type": "code",
   "execution_count": 16,
   "metadata": {
    "execution": {
     "iopub.execute_input": "2020-08-20T20:01:42.470431Z",
     "iopub.status.busy": "2020-08-20T20:01:42.469625Z",
     "iopub.status.idle": "2020-08-20T20:01:42.473988Z",
     "shell.execute_reply": "2020-08-20T20:01:42.473300Z"
    },
    "papermill": {
     "duration": 0.02327,
     "end_time": "2020-08-20T20:01:42.474128",
     "exception": false,
     "start_time": "2020-08-20T20:01:42.450858",
     "status": "completed"
    },
    "tags": []
   },
   "outputs": [
    {
     "name": "stdout",
     "output_type": "stream",
     "text": [
      "(465981, 3)\n",
      "(155328, 3)\n",
      "(465981,)\n",
      "(155328,)\n"
     ]
    }
   ],
   "source": [
    "print(X_train.shape)\n",
    "print(X_test.shape)\n",
    "print(y_train.shape)\n",
    "print(y_test.shape)"
   ]
  },
  {
   "cell_type": "code",
   "execution_count": 17,
   "metadata": {
    "execution": {
     "iopub.execute_input": "2020-08-20T20:01:42.507990Z",
     "iopub.status.busy": "2020-08-20T20:01:42.506799Z",
     "iopub.status.idle": "2020-08-20T20:01:42.511680Z",
     "shell.execute_reply": "2020-08-20T20:01:42.510933Z"
    },
    "papermill": {
     "duration": 0.024158,
     "end_time": "2020-08-20T20:01:42.511820",
     "exception": false,
     "start_time": "2020-08-20T20:01:42.487662",
     "status": "completed"
    },
    "tags": []
   },
   "outputs": [
    {
     "data": {
      "text/plain": [
       "array([2, 4, 3, ..., 4, 0, 0])"
      ]
     },
     "execution_count": 17,
     "metadata": {},
     "output_type": "execute_result"
    }
   ],
   "source": [
    "y_test"
   ]
  },
  {
   "cell_type": "code",
   "execution_count": 18,
   "metadata": {
    "execution": {
     "iopub.execute_input": "2020-08-20T20:01:42.544581Z",
     "iopub.status.busy": "2020-08-20T20:01:42.543518Z",
     "iopub.status.idle": "2020-08-20T20:01:42.547396Z",
     "shell.execute_reply": "2020-08-20T20:01:42.546582Z"
    },
    "papermill": {
     "duration": 0.021881,
     "end_time": "2020-08-20T20:01:42.547530",
     "exception": false,
     "start_time": "2020-08-20T20:01:42.525649",
     "status": "completed"
    },
    "tags": []
   },
   "outputs": [],
   "source": [
    "#y_train = np.ravel(y_train)\n",
    "#y_train.shape"
   ]
  },
  {
   "cell_type": "code",
   "execution_count": 19,
   "metadata": {
    "execution": {
     "iopub.execute_input": "2020-08-20T20:01:42.580268Z",
     "iopub.status.busy": "2020-08-20T20:01:42.579197Z",
     "iopub.status.idle": "2020-08-20T20:01:42.582234Z",
     "shell.execute_reply": "2020-08-20T20:01:42.581488Z"
    },
    "papermill": {
     "duration": 0.021502,
     "end_time": "2020-08-20T20:01:42.582378",
     "exception": false,
     "start_time": "2020-08-20T20:01:42.560876",
     "status": "completed"
    },
    "tags": []
   },
   "outputs": [],
   "source": [
    "#y_train=y_train.astype('str') "
   ]
  },
  {
   "cell_type": "code",
   "execution_count": 20,
   "metadata": {
    "execution": {
     "iopub.execute_input": "2020-08-20T20:01:42.619679Z",
     "iopub.status.busy": "2020-08-20T20:01:42.618854Z",
     "iopub.status.idle": "2020-08-20T20:02:09.056628Z",
     "shell.execute_reply": "2020-08-20T20:02:09.057218Z"
    },
    "papermill": {
     "duration": 26.461545,
     "end_time": "2020-08-20T20:02:09.057411",
     "exception": false,
     "start_time": "2020-08-20T20:01:42.595866",
     "status": "completed"
    },
    "tags": []
   },
   "outputs": [
    {
     "name": "stdout",
     "output_type": "stream",
     "text": [
      "0.8163885455294603\n"
     ]
    }
   ],
   "source": [
    " clf_model = RandomForestClassifier(\n",
    "     n_estimators=100,\n",
    "     criterion='gini',\n",
    "     max_depth=15,\n",
    "     min_samples_split=2,\n",
    "     min_samples_leaf=1,\n",
    "     min_weight_fraction_leaf=0.0,\n",
    "     max_features='auto',\n",
    "     max_leaf_nodes=None,\n",
    "     min_impurity_decrease=0.0,\n",
    "     min_impurity_split=None,\n",
    "     bootstrap=True,\n",
    "     oob_score=False,\n",
    "     n_jobs=-1,\n",
    "     random_state=0,\n",
    "     verbose=0,\n",
    "     warm_start=False,\n",
    "     class_weight='balanced'\n",
    ")\n",
    "\n",
    "clf_model.fit(X_train,y_train)\n",
    "y_pred=clf_model.predict(X_test)\n",
    "print(accuracy_score(y_test, y_pred))"
   ]
  },
  {
   "cell_type": "code",
   "execution_count": 21,
   "metadata": {
    "execution": {
     "iopub.execute_input": "2020-08-20T20:02:09.090688Z",
     "iopub.status.busy": "2020-08-20T20:02:09.089875Z",
     "iopub.status.idle": "2020-08-20T20:02:09.161180Z",
     "shell.execute_reply": "2020-08-20T20:02:09.161791Z"
    },
    "papermill": {
     "duration": 0.090896,
     "end_time": "2020-08-20T20:02:09.161994",
     "exception": false,
     "start_time": "2020-08-20T20:02:09.071098",
     "status": "completed"
    },
    "tags": []
   },
   "outputs": [
    {
     "name": "stdout",
     "output_type": "stream",
     "text": [
      "0.8163885455294603\n"
     ]
    }
   ],
   "source": [
    "print(recall_score(y_test, y_pred, average='micro'))"
   ]
  },
  {
   "cell_type": "code",
   "execution_count": 22,
   "metadata": {
    "execution": {
     "iopub.execute_input": "2020-08-20T20:02:09.195169Z",
     "iopub.status.busy": "2020-08-20T20:02:09.194348Z",
     "iopub.status.idle": "2020-08-20T20:02:09.453250Z",
     "shell.execute_reply": "2020-08-20T20:02:09.452598Z"
    },
    "papermill": {
     "duration": 0.277741,
     "end_time": "2020-08-20T20:02:09.453394",
     "exception": false,
     "start_time": "2020-08-20T20:02:09.175653",
     "status": "completed"
    },
    "tags": []
   },
   "outputs": [
    {
     "data": {
      "text/plain": [
       "array([[56637,   303,  1023,  3881,  1095],\n",
       "       [  289, 12527,  1484,   143,  2113],\n",
       "       [ 1300,  4306, 37893,   142,  3359],\n",
       "       [  468,    65,    41,  8250,   207],\n",
       "       [  897,  3408,  3170,   826, 11501]])"
      ]
     },
     "execution_count": 22,
     "metadata": {},
     "output_type": "execute_result"
    }
   ],
   "source": [
    "confusion_matrix(y_test, y_pred)"
   ]
  },
  {
   "cell_type": "code",
   "execution_count": 23,
   "metadata": {
    "execution": {
     "iopub.execute_input": "2020-08-20T20:02:09.488884Z",
     "iopub.status.busy": "2020-08-20T20:02:09.488122Z",
     "iopub.status.idle": "2020-08-20T20:02:09.491839Z",
     "shell.execute_reply": "2020-08-20T20:02:09.490988Z"
    },
    "papermill": {
     "duration": 0.024437,
     "end_time": "2020-08-20T20:02:09.492028",
     "exception": false,
     "start_time": "2020-08-20T20:02:09.467591",
     "status": "completed"
    },
    "tags": []
   },
   "outputs": [],
   "source": [
    "xgb_params = dict(\n",
    "    max_depth=30,\n",
    "    learning_rate=0.1,\n",
    "    n_estimators=100,\n",
    "    booster='gbtree',\n",
    "    objective='multi:softmax',\n",
    "    gamma= 3,\n",
    "    min_child_weight=1,\n",
    "    num_class= 5\n",
    ")\n",
    "\n",
    "xgb_model = XGBClassifier(\n",
    "    **xgb_params\n",
    ")\n",
    "\n",
    "\n"
   ]
  },
  {
   "cell_type": "code",
   "execution_count": 24,
   "metadata": {
    "execution": {
     "iopub.execute_input": "2020-08-20T20:02:09.526220Z",
     "iopub.status.busy": "2020-08-20T20:02:09.525447Z",
     "iopub.status.idle": "2020-08-20T20:19:49.341672Z",
     "shell.execute_reply": "2020-08-20T20:19:49.342503Z"
    },
    "papermill": {
     "duration": 1059.836747,
     "end_time": "2020-08-20T20:19:49.342981",
     "exception": false,
     "start_time": "2020-08-20T20:02:09.506234",
     "status": "completed"
    },
    "tags": []
   },
   "outputs": [],
   "source": [
    "cv_xgb = cross_validate(xgb_model, X_train, y_train, cv=5, scoring= 'accuracy')"
   ]
  },
  {
   "cell_type": "code",
   "execution_count": 25,
   "metadata": {
    "execution": {
     "iopub.execute_input": "2020-08-20T20:19:49.387659Z",
     "iopub.status.busy": "2020-08-20T20:19:49.386751Z",
     "iopub.status.idle": "2020-08-20T20:19:49.390128Z",
     "shell.execute_reply": "2020-08-20T20:19:49.390823Z"
    },
    "papermill": {
     "duration": 0.029301,
     "end_time": "2020-08-20T20:19:49.391034",
     "exception": false,
     "start_time": "2020-08-20T20:19:49.361733",
     "status": "completed"
    },
    "tags": []
   },
   "outputs": [
    {
     "data": {
      "text/plain": [
       "0.8389612469204117"
      ]
     },
     "execution_count": 25,
     "metadata": {},
     "output_type": "execute_result"
    }
   ],
   "source": [
    "cv_xgb['test_score'].mean()"
   ]
  },
  {
   "cell_type": "code",
   "execution_count": 26,
   "metadata": {
    "execution": {
     "iopub.execute_input": "2020-08-20T20:19:49.433531Z",
     "iopub.status.busy": "2020-08-20T20:19:49.432632Z",
     "iopub.status.idle": "2020-08-20T20:21:49.924244Z",
     "shell.execute_reply": "2020-08-20T20:21:49.923431Z"
    },
    "papermill": {
     "duration": 120.516474,
     "end_time": "2020-08-20T20:21:49.924411",
     "exception": false,
     "start_time": "2020-08-20T20:19:49.407937",
     "status": "completed"
    },
    "tags": []
   },
   "outputs": [],
   "source": [
    "cv_rf = cross_validate(clf_model, X_train, y_train, cv=5, scoring= 'accuracy')"
   ]
  },
  {
   "cell_type": "code",
   "execution_count": 27,
   "metadata": {
    "execution": {
     "iopub.execute_input": "2020-08-20T20:21:49.961361Z",
     "iopub.status.busy": "2020-08-20T20:21:49.960494Z",
     "iopub.status.idle": "2020-08-20T20:21:49.965338Z",
     "shell.execute_reply": "2020-08-20T20:21:49.964607Z"
    },
    "papermill": {
     "duration": 0.026095,
     "end_time": "2020-08-20T20:21:49.965478",
     "exception": false,
     "start_time": "2020-08-20T20:21:49.939383",
     "status": "completed"
    },
    "tags": []
   },
   "outputs": [
    {
     "data": {
      "text/plain": [
       "0.8138958461754793"
      ]
     },
     "execution_count": 27,
     "metadata": {},
     "output_type": "execute_result"
    }
   ],
   "source": [
    "cv_rf['test_score'].mean()"
   ]
  },
  {
   "cell_type": "code",
   "execution_count": 28,
   "metadata": {
    "execution": {
     "iopub.execute_input": "2020-08-20T20:21:50.001647Z",
     "iopub.status.busy": "2020-08-20T20:21:50.000737Z",
     "iopub.status.idle": "2020-08-20T20:26:21.846349Z",
     "shell.execute_reply": "2020-08-20T20:26:21.846952Z"
    },
    "papermill": {
     "duration": 271.866632,
     "end_time": "2020-08-20T20:26:21.847147",
     "exception": false,
     "start_time": "2020-08-20T20:21:49.980515",
     "status": "completed"
    },
    "tags": []
   },
   "outputs": [
    {
     "data": {
      "text/plain": [
       "XGBClassifier(base_score=0.5, booster='gbtree', colsample_bylevel=1,\n",
       "              colsample_bynode=1, colsample_bytree=1, gamma=3, gpu_id=-1,\n",
       "              importance_type='gain', interaction_constraints='',\n",
       "              learning_rate=0.1, max_delta_step=0, max_depth=30,\n",
       "              min_child_weight=1, missing=nan, monotone_constraints='()',\n",
       "              n_estimators=100, n_jobs=0, num_class=5, num_parallel_tree=1,\n",
       "              objective='multi:softprob', random_state=0, reg_alpha=0,\n",
       "              reg_lambda=1, scale_pos_weight=None, subsample=1,\n",
       "              tree_method='exact', validate_parameters=1, verbosity=None)"
      ]
     },
     "execution_count": 28,
     "metadata": {},
     "output_type": "execute_result"
    }
   ],
   "source": [
    "xgb_final = XGBClassifier(** xgb_params)\n",
    "xgb_final.fit(X_train, y_train)"
   ]
  },
  {
   "cell_type": "code",
   "execution_count": 29,
   "metadata": {
    "execution": {
     "iopub.execute_input": "2020-08-20T20:26:21.883005Z",
     "iopub.status.busy": "2020-08-20T20:26:21.882254Z",
     "iopub.status.idle": "2020-08-20T20:26:29.538729Z",
     "shell.execute_reply": "2020-08-20T20:26:29.539624Z"
    },
    "papermill": {
     "duration": 7.678165,
     "end_time": "2020-08-20T20:26:29.539857",
     "exception": false,
     "start_time": "2020-08-20T20:26:21.861692",
     "status": "completed"
    },
    "tags": []
   },
   "outputs": [],
   "source": [
    "test_pred = xgb_final.predict(X_test)"
   ]
  },
  {
   "cell_type": "markdown",
   "execution_count": null,
   "metadata": {
    "papermill": {
     "duration": 0.020073,
     "end_time": "2020-08-20T20:26:29.580471",
     "exception": false,
     "start_time": "2020-08-20T20:26:29.560398",
     "status": "completed"
    },
    "tags": []
   },
   "source": [
    "## Test image "
   ]
  },
  {
   "cell_type": "code",
   "execution_count": 30,
   "metadata": {
    "execution": {
     "iopub.execute_input": "2020-08-20T20:26:29.622371Z",
     "iopub.status.busy": "2020-08-20T20:26:29.621521Z",
     "iopub.status.idle": "2020-08-20T20:26:29.623463Z",
     "shell.execute_reply": "2020-08-20T20:26:29.624265Z"
    },
    "papermill": {
     "duration": 0.026027,
     "end_time": "2020-08-20T20:26:29.624455",
     "exception": false,
     "start_time": "2020-08-20T20:26:29.598428",
     "status": "completed"
    },
    "tags": []
   },
   "outputs": [],
   "source": [
    "#first_try = \"../input/aerial-sampled2tif/aerial_sampled2.tif\""
   ]
  },
  {
   "cell_type": "code",
   "execution_count": 31,
   "metadata": {
    "execution": {
     "iopub.execute_input": "2020-08-20T20:26:29.667427Z",
     "iopub.status.busy": "2020-08-20T20:26:29.666493Z",
     "iopub.status.idle": "2020-08-20T20:26:29.668549Z",
     "shell.execute_reply": "2020-08-20T20:26:29.669393Z"
    },
    "papermill": {
     "duration": 0.02698,
     "end_time": "2020-08-20T20:26:29.669592",
     "exception": false,
     "start_time": "2020-08-20T20:26:29.642612",
     "status": "completed"
    },
    "tags": []
   },
   "outputs": [],
   "source": [
    "#example_image = cv2.imread(first_try)\n",
    "#example_image = cv2.cvtColor(example_image, cv2.COLOR_BGR2RGB)"
   ]
  },
  {
   "cell_type": "code",
   "execution_count": 32,
   "metadata": {
    "execution": {
     "iopub.execute_input": "2020-08-20T20:26:29.712470Z",
     "iopub.status.busy": "2020-08-20T20:26:29.711592Z",
     "iopub.status.idle": "2020-08-20T20:26:29.713838Z",
     "shell.execute_reply": "2020-08-20T20:26:29.714650Z"
    },
    "papermill": {
     "duration": 0.026958,
     "end_time": "2020-08-20T20:26:29.714845",
     "exception": false,
     "start_time": "2020-08-20T20:26:29.687887",
     "status": "completed"
    },
    "tags": []
   },
   "outputs": [],
   "source": [
    "#example_image.dtype"
   ]
  },
  {
   "cell_type": "code",
   "execution_count": 33,
   "metadata": {
    "execution": {
     "iopub.execute_input": "2020-08-20T20:26:29.751270Z",
     "iopub.status.busy": "2020-08-20T20:26:29.750490Z",
     "iopub.status.idle": "2020-08-20T20:26:29.753870Z",
     "shell.execute_reply": "2020-08-20T20:26:29.753152Z"
    },
    "papermill": {
     "duration": 0.022787,
     "end_time": "2020-08-20T20:26:29.754023",
     "exception": false,
     "start_time": "2020-08-20T20:26:29.731236",
     "status": "completed"
    },
    "tags": []
   },
   "outputs": [],
   "source": [
    "#def flatten_image(image):\n",
    "#    return image.reshape((image.shape[0] * image.shape[1], *image.shape[2:]))"
   ]
  },
  {
   "cell_type": "code",
   "execution_count": 34,
   "metadata": {
    "execution": {
     "iopub.execute_input": "2020-08-20T20:26:29.789688Z",
     "iopub.status.busy": "2020-08-20T20:26:29.788938Z",
     "iopub.status.idle": "2020-08-20T20:26:29.792477Z",
     "shell.execute_reply": "2020-08-20T20:26:29.791858Z"
    },
    "papermill": {
     "duration": 0.023295,
     "end_time": "2020-08-20T20:26:29.792618",
     "exception": false,
     "start_time": "2020-08-20T20:26:29.769323",
     "status": "completed"
    },
    "tags": []
   },
   "outputs": [],
   "source": [
    "#flattened_example_image = flatten_image(example_image)"
   ]
  },
  {
   "cell_type": "code",
   "execution_count": 35,
   "metadata": {
    "execution": {
     "iopub.execute_input": "2020-08-20T20:26:29.828297Z",
     "iopub.status.busy": "2020-08-20T20:26:29.827246Z",
     "iopub.status.idle": "2020-08-20T20:26:29.830404Z",
     "shell.execute_reply": "2020-08-20T20:26:29.831056Z"
    },
    "papermill": {
     "duration": 0.023471,
     "end_time": "2020-08-20T20:26:29.831237",
     "exception": false,
     "start_time": "2020-08-20T20:26:29.807766",
     "status": "completed"
    },
    "tags": []
   },
   "outputs": [],
   "source": [
    "#flattened_example_image.shape"
   ]
  },
  {
   "cell_type": "code",
   "execution_count": 36,
   "metadata": {
    "execution": {
     "iopub.execute_input": "2020-08-20T20:26:29.867162Z",
     "iopub.status.busy": "2020-08-20T20:26:29.866099Z",
     "iopub.status.idle": "2020-08-20T20:26:29.869773Z",
     "shell.execute_reply": "2020-08-20T20:26:29.869045Z"
    },
    "papermill": {
     "duration": 0.02331,
     "end_time": "2020-08-20T20:26:29.869898",
     "exception": false,
     "start_time": "2020-08-20T20:26:29.846588",
     "status": "completed"
    },
    "tags": []
   },
   "outputs": [],
   "source": [
    "#clf_model.fit(flattened_example_image, y_train)\n",
    "# example_clf = clf_model.predict(flattened_example_image)"
   ]
  },
  {
   "cell_type": "code",
   "execution_count": 37,
   "metadata": {
    "execution": {
     "iopub.execute_input": "2020-08-20T20:26:29.915168Z",
     "iopub.status.busy": "2020-08-20T20:26:29.909994Z",
     "iopub.status.idle": "2020-08-20T20:26:29.921469Z",
     "shell.execute_reply": "2020-08-20T20:26:29.920694Z"
    },
    "papermill": {
     "duration": 0.036406,
     "end_time": "2020-08-20T20:26:29.921597",
     "exception": false,
     "start_time": "2020-08-20T20:26:29.885191",
     "status": "completed"
    },
    "tags": []
   },
   "outputs": [],
   "source": [
    "##predicting on image\n",
    "xgb_params = dict(\n",
    "    max_depth=30,\n",
    "    learning_rate=0.1,\n",
    "    n_estimators=100,\n",
    "    booster='gbtree',\n",
    "    objective='multi:softmax',\n",
    "    gamma= 3,\n",
    "    min_child_weight=1,\n",
    "    num_class= 5\n",
    ")\n",
    "\n",
    "xgb_model = XGBClassifier(\n",
    "    **xgb_params\n",
    ")\n",
    "\n",
    "\n",
    "def flatten_image(image):\n",
    "    return image.reshape((image.shape[0] * image.shape[1], *image.shape[2:]))   \n",
    "\n",
    "\n",
    "def predict_on_image(model, image):\n",
    "    flat_image = flatten_image(image)\n",
    "    y_pred = model.predict(flat_image)\n",
    "    prediction_colours = np.zeros((y_pred.shape[0], 3))\n",
    "    colour_mapping = {\n",
    "        0: (11, 102, 35),\n",
    "        1: (134, 136, 138),\n",
    "        2: (198, 162, 66),\n",
    "        3: (10, 17, 114), \n",
    "        4: (75, 58, 38)\n",
    "    }\n",
    "    for i in range(y_pred.shape[0]):\n",
    "        prediction = y_pred[i]\n",
    "        prediction_colour = np.array(colour_mapping[prediction])\n",
    "        prediction_colours[i] = prediction_colour\n",
    "    \n",
    "    return prediction_colours.reshape(image.shape)"
   ]
  },
  {
   "cell_type": "code",
   "execution_count": 38,
   "metadata": {
    "execution": {
     "iopub.execute_input": "2020-08-20T20:26:29.965733Z",
     "iopub.status.busy": "2020-08-20T20:26:29.964855Z",
     "iopub.status.idle": "2020-08-20T20:26:29.968765Z",
     "shell.execute_reply": "2020-08-20T20:26:29.968114Z"
    },
    "papermill": {
     "duration": 0.030026,
     "end_time": "2020-08-20T20:26:29.968894",
     "exception": false,
     "start_time": "2020-08-20T20:26:29.938868",
     "status": "completed"
    },
    "tags": []
   },
   "outputs": [],
   "source": [
    "#flat_image = flatten_image(example_image)\n",
    "#example_y_pred = xgb_final.predict(flat_image)"
   ]
  },
  {
   "cell_type": "code",
   "execution_count": 39,
   "metadata": {
    "execution": {
     "iopub.execute_input": "2020-08-20T20:26:30.005415Z",
     "iopub.status.busy": "2020-08-20T20:26:30.004579Z",
     "iopub.status.idle": "2020-08-20T20:26:30.008252Z",
     "shell.execute_reply": "2020-08-20T20:26:30.007521Z"
    },
    "papermill": {
     "duration": 0.023667,
     "end_time": "2020-08-20T20:26:30.008408",
     "exception": false,
     "start_time": "2020-08-20T20:26:29.984741",
     "status": "completed"
    },
    "tags": []
   },
   "outputs": [],
   "source": [
    "#example_y_pred.min()"
   ]
  },
  {
   "cell_type": "code",
   "execution_count": 40,
   "metadata": {
    "execution": {
     "iopub.execute_input": "2020-08-20T20:26:30.046017Z",
     "iopub.status.busy": "2020-08-20T20:26:30.044887Z",
     "iopub.status.idle": "2020-08-20T20:26:30.048004Z",
     "shell.execute_reply": "2020-08-20T20:26:30.048550Z"
    },
    "papermill": {
     "duration": 0.02421,
     "end_time": "2020-08-20T20:26:30.048718",
     "exception": false,
     "start_time": "2020-08-20T20:26:30.024508",
     "status": "completed"
    },
    "tags": []
   },
   "outputs": [],
   "source": [
    "#example_predictions = predict_on_image(xgb_final, example_image)"
   ]
  },
  {
   "cell_type": "code",
   "execution_count": 41,
   "metadata": {
    "execution": {
     "iopub.execute_input": "2020-08-20T20:26:30.086671Z",
     "iopub.status.busy": "2020-08-20T20:26:30.085695Z",
     "iopub.status.idle": "2020-08-20T20:26:30.090067Z",
     "shell.execute_reply": "2020-08-20T20:26:30.089267Z"
    },
    "papermill": {
     "duration": 0.025608,
     "end_time": "2020-08-20T20:26:30.090200",
     "exception": false,
     "start_time": "2020-08-20T20:26:30.064592",
     "status": "completed"
    },
    "tags": []
   },
   "outputs": [],
   "source": [
    "#example_predictions[:, :, 0].max()"
   ]
  },
  {
   "cell_type": "code",
   "execution_count": 42,
   "metadata": {
    "execution": {
     "iopub.execute_input": "2020-08-20T20:26:30.127195Z",
     "iopub.status.busy": "2020-08-20T20:26:30.125978Z",
     "iopub.status.idle": "2020-08-20T20:26:30.129715Z",
     "shell.execute_reply": "2020-08-20T20:26:30.129085Z"
    },
    "papermill": {
     "duration": 0.024015,
     "end_time": "2020-08-20T20:26:30.129839",
     "exception": false,
     "start_time": "2020-08-20T20:26:30.105824",
     "status": "completed"
    },
    "tags": []
   },
   "outputs": [],
   "source": [
    "#plt.figure(figsize = (10,10))\n",
    "#plt.imshow(example_predictions)"
   ]
  },
  {
   "cell_type": "code",
   "execution_count": null,
   "metadata": {
    "papermill": {
     "duration": 0.015578,
     "end_time": "2020-08-20T20:26:30.161172",
     "exception": false,
     "start_time": "2020-08-20T20:26:30.145594",
     "status": "completed"
    },
    "tags": []
   },
   "outputs": [],
   "source": []
  }
 ],
 "metadata": {
  "kernelspec": {
   "display_name": "Python 3",
   "language": "python",
   "name": "python3"
  },
  "language_info": {
   "codemirror_mode": {
    "name": "ipython",
    "version": 3
   },
   "file_extension": ".py",
   "mimetype": "text/x-python",
   "name": "python",
   "nbconvert_exporter": "python",
   "pygments_lexer": "ipython3",
   "version": "3.7.6"
  },
  "papermill": {
   "duration": 1518.171977,
   "end_time": "2020-08-20T20:26:30.285724",
   "environment_variables": {},
   "exception": null,
   "input_path": "__notebook__.ipynb",
   "output_path": "__notebook__.ipynb",
   "parameters": {},
   "start_time": "2020-08-20T20:01:12.113747",
   "version": "2.1.0"
  }
 },
 "nbformat": 4,
 "nbformat_minor": 4
}
