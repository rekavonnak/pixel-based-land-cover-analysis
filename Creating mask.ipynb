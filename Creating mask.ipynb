{
 "cells": [
  {
   "cell_type": "code",
   "execution_count": 12,
   "metadata": {},
   "outputs": [],
   "source": [
    "import gdal\n",
    "import osgeo as osr\n",
    "import geopandas as pd\n",
    "import numpy as np\n",
    "import cv2\n",
    "import random"
   ]
  },
  {
   "cell_type": "code",
   "execution_count": 26,
   "metadata": {},
   "outputs": [],
   "source": [
    "def random_colour():\n",
    "    colour=[]\n",
    "    for _ in range(3):\n",
    "        colour.append(random.randint(1, 255))\n",
    "    return tuple(colour)\n",
    "\n",
    "\n",
    "def geo2imagexy(dataset, x, y):\n",
    "    \n",
    "    trans = dataset.GetGeoTransform()\n",
    "    a = np.array([[trans[1], trans[2]], [trans[4], trans[5]]])\n",
    "    b = np.array([x - trans[0], y - trans[3]])\n",
    "    return np.linalg.solve(a, b)\n",
    "\n",
    "def getSRSPair(dataset):\n",
    "    prosrs = osr.SpatialReference()\n",
    "    prosrs.ImportFromWkt(dataset.GetProjection())\n",
    "    geosrs = prosrs.CloneGeogCS()\n",
    "    return prosrs, geosrs\n",
    "def lonlat2geo(dataset, lon, lat):\n",
    "   \n",
    "    prosrs, geosrs = getSRSPair(dataset)\n",
    "    ct = osr.CoordinateTransformation(geosrs, prosrs)\n",
    "    coords = ct.TransformPoint(lon, lat)\n",
    "    return coords[:2]\n",
    "def run_png(tif_path,shp_path,out_path):\n",
    "    shape_data = pd.GeoDataFrame.from_file(shp_path)\n",
    "    tif_data = gdal.Open(tif_path)\n",
    "    tif_datashape = tif_data.ReadAsArray()\n",
    "    print(tif_datashape.shape)\n",
    "    level_xiao=[]\n",
    "    shapes=[]\n",
    "    kkt = []\n",
    "    for b in shape_data['geometry']:\n",
    "        if b.geom_type == \"MultiPolygon\":\n",
    "            for pg in b:\n",
    "                for j in pg.exterior.coords[:]:\n",
    "                    #print(\"#\"*20)\n",
    "                    print(j)\n",
    "                    (x,y,_)=j\n",
    "                    #(xt,yt)=lonlat2geo(tif_data,x,y)\n",
    "                    (xt,yt)=geo2imagexy(tif_data,x,y)\n",
    "                    level_xiao.append((xt,yt))\n",
    "                shapes.append(level_xiao)\n",
    "                level_xiao=[]\n",
    "        else:\n",
    "            for ji in b.exterior.coords[:]:\n",
    "                (x,y)=ji[0],ji[1]\n",
    "                #(xt,yt)=lonlat2geo(tif_data,x,y)\n",
    "                (xt,yt)=geo2imagexy(tif_data,x,y)\n",
    "                level_xiao.append((xt,yt))\n",
    "            shapes.append(level_xiao)\n",
    "            level_xiao=[]\n",
    "    images = np.zeros((tif_datashape.shape[1],tif_datashape.shape[2],3))\n",
    "    colours = set()\n",
    "    for polygon in shapes:\n",
    "        np_polygon=np.array([polygon], dtype=np.int32)\n",
    "        colour=random_colour()\n",
    "        \n",
    "        while colour in colours:\n",
    "            colour=random_colour()\n",
    "        \n",
    "        colours.add(colour)\n",
    "        cv2.fillPoly(images,np_polygon,colour)\n",
    "    cv2.imwrite(out_path,images)\n",
    "    print(np.unique(images,return_counts=True))"
   ]
  },
  {
   "cell_type": "code",
   "execution_count": 27,
   "metadata": {},
   "outputs": [
    {
     "data": {
      "text/plain": [
       "(104, 232, 244)"
      ]
     },
     "execution_count": 27,
     "metadata": {},
     "output_type": "execute_result"
    }
   ],
   "source": [
    "random_colour()"
   ]
  },
  {
   "cell_type": "code",
   "execution_count": 28,
   "metadata": {},
   "outputs": [
    {
     "name": "stdout",
     "output_type": "stream",
     "text": [
      "(3, 9252, 14056)\n",
      "(3, 9252, 14056)\n",
      "(array([  0.,   2.,   5.,   6.,   7.,  10.,  12.,  15.,  17.,  19.,  24.,\n",
      "        25.,  26.,  27.,  28.,  31.,  32.,  38.,  40.,  47.,  48.,  50.,\n",
      "        51.,  52.,  53.,  57.,  58.,  59.,  61.,  63.,  64.,  66.,  68.,\n",
      "        73.,  74.,  75.,  77.,  78.,  79.,  80.,  81.,  83.,  87.,  89.,\n",
      "        92.,  94.,  95.,  96., 100., 101., 103., 105., 106., 107., 114.,\n",
      "       115., 116., 117., 119., 121., 124., 125., 127., 129., 131., 132.,\n",
      "       133., 134., 136., 138., 139., 143., 144., 147., 154., 156., 159.,\n",
      "       166., 169., 170., 176., 177., 178., 179., 181., 194., 197., 198.,\n",
      "       200., 201., 205., 207., 208., 209., 215., 216., 218., 220., 225.,\n",
      "       227., 228., 235., 237., 238., 239., 240., 241., 244., 246., 247.,\n",
      "       248., 251., 252., 253., 254., 255.]), array([340651905,    358424,   3184573,     92446,     66651,    269244,\n",
      "          471040,    248859,    135061,     30575,    102163,   1158256,\n",
      "         1560094,    131571,   2758015,     76117,     42514,    254098,\n",
      "         1726344,     30575,     22122,     15446,    110293,    204656,\n",
      "           23204,     74912,    139193,    490833,    131571,     73598,\n",
      "           70796,    158474,     53456,   2758015,    344644,     41359,\n",
      "           66651,     75144,    123410,     21070,     63584,    102493,\n",
      "          138787,     23064,    537903,    358424,    158474,    248859,\n",
      "          102493,     21070,    218943,    151935,     92446,     23204,\n",
      "          334707,    439415,   2581740,    164488,    269244,     92446,\n",
      "          164488,     92722,    365817,    123410,    281226,     73598,\n",
      "           53456,     15446,    506878,    837078,     30575,    143799,\n",
      "           22122,   3184573,     34176,    120062,    172506,   1019884,\n",
      "           29628,    131571,     88592,   1339446,    509616,   1726344,\n",
      "          188268,     90101,     49075,    344388,    590960,    368693,\n",
      "          151665,    368693,    151935,    588111,    227782,    112027,\n",
      "           97976,    135061,    104540,    172506,    425075,    667720,\n",
      "         2758015,    837078,    281884,     92722,    151665,     53456,\n",
      "         3184573,    368693,     23204,    289044,    281226,    502368,\n",
      "          513897,    427831]))\n"
     ]
    }
   ],
   "source": [
    "run_png(\"./aerial_sampled.tif\", \n",
    "        \"./shapefiles/derelict_sampled.shp\", \n",
    "        \"derelict_mask.png\") "
   ]
  },
  {
   "cell_type": "code",
   "execution_count": 29,
   "metadata": {},
   "outputs": [
    {
     "name": "stdout",
     "output_type": "stream",
     "text": [
      "(3, 9252, 14056)\n",
      "(3, 9252, 14056)\n",
      "(array([  0.,   4.,   6.,   7.,  13.,  14.,  20.,  24.,  26.,  27.,  28.,\n",
      "        29.,  30.,  34.,  35.,  37.,  38.,  42.,  45.,  46.,  47.,  50.,\n",
      "        51.,  52.,  57.,  58.,  61.,  63.,  64.,  66.,  67.,  71.,  73.,\n",
      "        75.,  76.,  77.,  79.,  82.,  84.,  88.,  90.,  95.,  97.,  99.,\n",
      "       104., 105., 109., 110., 117., 118., 121., 123., 124., 125., 128.,\n",
      "       130., 132., 134., 137., 140., 143., 152., 156., 157., 160., 163.,\n",
      "       166., 168., 173., 175., 181., 182., 183., 184., 187., 188., 189.,\n",
      "       190., 192., 193., 196., 197., 198., 202., 205., 208., 209., 212.,\n",
      "       214., 217., 218., 225., 231., 233., 235., 236., 239., 241., 243.,\n",
      "       244., 248., 253.]), array([377996934,     22984,     42015,    116990,     72715,     25745,\n",
      "          116990,    105236,     66783,    232006,    114730,     26390,\n",
      "          221062,    118385,     83673,     82333,    161567,     49436,\n",
      "          177729,    218387,     61666,     83673,     79139,     66129,\n",
      "           45012,    108443,     45012,    226722,     68028,    116990,\n",
      "           16419,     79139,     45012,    118385,    367292,    194593,\n",
      "          126418,    177729,     95049,     26959,    152258,     44826,\n",
      "           34746,    121270,    177729,    249401,    213414,     37262,\n",
      "           79139,    109021,    318630,     25745,    213679,    249401,\n",
      "          271548,    308463,     15550,     95049,     37262,     15550,\n",
      "           66129,    273804,     25745,    105236,    152258,     22984,\n",
      "           86524,    137594,     25395,    225850,    142001,    167821,\n",
      "          249401,     34746,    126418,    122230,     16419,     68028,\n",
      "           19651,     24000,     86524,     19651,     26390,     24000,\n",
      "          221062,    126418,     83389,    194877,    225850,     72715,\n",
      "          225850,     92565,     92178,     37262,    138583,    382247,\n",
      "          362603,    228545,     83389,     16419,    226722,    109021]))\n"
     ]
    }
   ],
   "source": [
    "run_png(\"./aerial_sampled.tif\",\n",
    "        \"./shapefiles/vacant_sampled.shp\",\n",
    "        \"vacant_mask.png\")"
   ]
  },
  {
   "cell_type": "code",
   "execution_count": 30,
   "metadata": {},
   "outputs": [],
   "source": [
    "imgs = cv2.imread(\"vacant_mask.png\",0)\n",
    "imgm = cv2.imread(\"derelict_mask.png\",0)\n",
    "tmp = np.zeros(imgs.shape)\n",
    "tmp[imgs==255]=1 # label mask 1 to 1\n",
    "tmp[imgm==255]=2 # label mask 2 to 2\n",
    "#cv2.imwrite(\"vacant_1_derelict_2.png\",tmp)"
   ]
  },
  {
   "cell_type": "code",
   "execution_count": null,
   "metadata": {},
   "outputs": [],
   "source": []
  }
 ],
 "metadata": {
  "kernelspec": {
   "display_name": "Python 3",
   "language": "python",
   "name": "python3"
  },
  "language_info": {
   "codemirror_mode": {
    "name": "ipython",
    "version": 3
   },
   "file_extension": ".py",
   "mimetype": "text/x-python",
   "name": "python",
   "nbconvert_exporter": "python",
   "pygments_lexer": "ipython3",
   "version": "3.6.11"
  }
 },
 "nbformat": 4,
 "nbformat_minor": 4
}
